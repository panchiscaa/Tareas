{
  "nbformat": 4,
  "nbformat_minor": 0,
  "metadata": {
    "colab": {
      "provenance": []
    },
    "kernelspec": {
      "name": "python3",
      "display_name": "Python 3"
    },
    "language_info": {
      "name": "python"
    }
  },
  "cells": [
    {
      "cell_type": "code",
      "execution_count": 4,
      "metadata": {
        "colab": {
          "base_uri": "https://localhost:8080/"
        },
        "id": "qQ7tdEDFA32E",
        "outputId": "e2f228d9-9630-4f9f-b0e4-a1952b611631"
      },
      "outputs": [
        {
          "output_type": "stream",
          "name": "stdout",
          "text": [
            "1\n",
            "2\n",
            "3\n",
            "4\n",
            "5\n",
            "6\n",
            "7\n",
            "8\n",
            "9\n",
            "10\n",
            "11\n",
            "12\n",
            "13\n",
            "14\n",
            "15\n",
            "16\n",
            "17\n",
            "18\n",
            "19\n",
            "20\n",
            "21\n",
            "22\n",
            "23\n",
            "24\n",
            "25\n",
            "26\n",
            "27\n",
            "28\n",
            "29\n",
            "30\n",
            "31\n",
            "32\n",
            "33\n",
            "34\n",
            "35\n",
            "36\n",
            "37\n",
            "38\n",
            "39\n",
            "40\n",
            "41\n",
            "42\n",
            "43\n",
            "44\n",
            "45\n",
            "46\n",
            "47\n",
            "48\n",
            "49\n",
            "50\n",
            "51\n",
            "52\n",
            "53\n",
            "54\n",
            "55\n",
            "56\n",
            "57\n",
            "58\n",
            "59\n",
            "60\n",
            "61\n",
            "62\n",
            "63\n",
            "64\n",
            "65\n",
            "66\n",
            "67\n",
            "68\n",
            "69\n",
            "70\n",
            "71\n",
            "72\n",
            "73\n",
            "74\n",
            "75\n",
            "76\n",
            "77\n",
            "78\n",
            "79\n",
            "80\n",
            "81\n",
            "82\n",
            "83\n",
            "84\n",
            "85\n",
            "86\n",
            "87\n",
            "88\n",
            "89\n",
            "90\n",
            "91\n",
            "92\n",
            "93\n",
            "94\n",
            "95\n",
            "96\n",
            "97\n",
            "98\n",
            "99\n",
            "100\n"
          ]
        }
      ],
      "source": [
        "# Solución al problema 1\n",
        "\n",
        "# Script para imprimir los números del 1 al 100\n",
        "for number in range(1, 101):\n",
        "    print(number)\n"
      ]
    },
    {
      "cell_type": "code",
      "source": [
        "# Solución problema 2\n",
        "\n",
        "# Script para imprimir los números del 1 al 100 divisibles entre 3\n",
        "for number in range(1, 101):\n",
        "    if number % 3 == 0:\n",
        "        print(number)\n"
      ],
      "metadata": {
        "colab": {
          "base_uri": "https://localhost:8080/"
        },
        "id": "Hk2cDDiWBu9m",
        "outputId": "e793a08b-8fc3-4456-a0b5-bdf09bbdf2ca"
      },
      "execution_count": 3,
      "outputs": [
        {
          "output_type": "stream",
          "name": "stdout",
          "text": [
            "3\n",
            "6\n",
            "9\n",
            "12\n",
            "15\n",
            "18\n",
            "21\n",
            "24\n",
            "27\n",
            "30\n",
            "33\n",
            "36\n",
            "39\n",
            "42\n",
            "45\n",
            "48\n",
            "51\n",
            "54\n",
            "57\n",
            "60\n",
            "63\n",
            "66\n",
            "69\n",
            "72\n",
            "75\n",
            "78\n",
            "81\n",
            "84\n",
            "87\n",
            "90\n",
            "93\n",
            "96\n",
            "99\n"
          ]
        }
      ]
    },
    {
      "cell_type": "code",
      "source": [
        "# Solución problema 3\n",
        "\n",
        "# Declarar numero1, numero2\n",
        "numero1 = 100\n",
        "numero2 = 23\n",
        "\n",
        "# Sumar los dos números\n",
        "suma = numero1 + numero2\n",
        "\n",
        "# Comparar la suma, mostrar el mensaje correspondiente e imprimir el resultado\n",
        "if suma < 100:\n",
        "    print(\"La suma es menor a 100\")\n",
        "else:\n",
        "    if suma >= 100 and suma <= 150:\n",
        "        print(\"La suma está entre 100 y 150\")\n",
        "    else:\n",
        "        print(\"La suma es mayor a 150\")\n"
      ],
      "metadata": {
        "colab": {
          "base_uri": "https://localhost:8080/"
        },
        "id": "sV5TnSY_7Tt8",
        "outputId": "e5231424-01ef-4b73-a936-4929ccb34bbc"
      },
      "execution_count": 2,
      "outputs": [
        {
          "output_type": "stream",
          "name": "stdout",
          "text": [
            "La suma está entre 100 y 150\n"
          ]
        }
      ]
    },
    {
      "cell_type": "code",
      "source": [
        "#Solución problema 4\n",
        "\n",
        "# Declarar edad y si gusta programar o no\n",
        "edad = 22\n",
        "gusta_programar = False\n",
        "\n",
        "# Condicional para evaluar las respuestas e imprimir\n",
        "if edad > 18 and gusta_programar == True:\n",
        "  print(\"Tienes más de 18 años y te gusta programar\")\n",
        "else:\n",
        "  print(\"No tienes más de 18 años o no te gusta programar\")\n"
      ],
      "metadata": {
        "colab": {
          "base_uri": "https://localhost:8080/"
        },
        "id": "ljddqIrk9kSq",
        "outputId": "32376dc9-da67-4542-a350-1ab050eae53d"
      },
      "execution_count": 1,
      "outputs": [
        {
          "output_type": "stream",
          "name": "stdout",
          "text": [
            "No tienes más de 18 años o no te gusta programar\n"
          ]
        }
      ]
    }
  ]
}